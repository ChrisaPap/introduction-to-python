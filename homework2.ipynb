{
 "cells": [
  {
   "cell_type": "markdown",
   "metadata": {},
   "source": [
    "# Homework 2\n"
   ]
  },
  {
   "cell_type": "code",
   "execution_count": 2,
   "metadata": {},
   "outputs": [
    {
     "name": "stdout",
     "output_type": "stream",
     "text": [
      "Please enter your user name: gjir\n",
      "Please enter your password: rfn\n",
      "Invalid user name and password\n"
     ]
    }
   ],
   "source": [
    "# User login\n",
    "\n",
    "user = \"Chrisa\"\n",
    "password = \"mypassword\"\n",
    "\n",
    "user_name = input(\"Please enter your user name: \")\n",
    "psw = input(\"Please enter your password: \")\n",
    "\n",
    "if user_name != user and password == psw :\n",
    "    print(\"Invalid user name\")\n",
    "elif user_name == user and password != psw :\n",
    "    print(\"Invalid password\")\n",
    "elif user_name != user and password != psw :\n",
    "    print(\"Invalid user name and password\")\n",
    "else:\n",
    "    print(\"You are now logged in!\")\n",
    "    "
   ]
  },
  {
   "cell_type": "code",
   "execution_count": 3,
   "metadata": {},
   "outputs": [
    {
     "data": {
      "text/plain": [
       "{'Chrisa': 'mypassword'}"
      ]
     },
     "execution_count": 3,
     "metadata": {},
     "output_type": "execute_result"
    }
   ],
   "source": [
    "# User login using dictionary\n",
    "\n",
    "dict = {\"Chrisa\":\"mypassword\"}\n",
    "dict"
   ]
  },
  {
   "cell_type": "code",
   "execution_count": 13,
   "metadata": {},
   "outputs": [
    {
     "name": "stdout",
     "output_type": "stream",
     "text": [
      "Chrisa\n",
      "mypassword\n"
     ]
    }
   ],
   "source": [
    "for k,v in dict.items():\n",
    "    user = k\n",
    "    password = v\n",
    "\n",
    "print(user)\n",
    "print(password)"
   ]
  },
  {
   "cell_type": "code",
   "execution_count": 15,
   "metadata": {},
   "outputs": [
    {
     "name": "stdout",
     "output_type": "stream",
     "text": [
      "Please enter your user name: Chrisa\n",
      "Please enter your password: mypassword\n",
      "You are now logged in!\n"
     ]
    }
   ],
   "source": [
    "user_name = input(\"Please enter your user name: \")\n",
    "psw = input(\"Please enter your password: \")\n",
    "\n",
    "if user_name != user and password == psw :\n",
    "    print(\"Invalid user name\")\n",
    "elif user_name == user and password != psw :\n",
    "    print(\"Invalid password\")\n",
    "elif user_name != user and password != psw :\n",
    "    print(\"Invalid user name and password\")\n",
    "else:\n",
    "    print(\"You are now logged in!\")\n",
    "    "
   ]
  },
  {
   "cell_type": "code",
   "execution_count": null,
   "metadata": {},
   "outputs": [],
   "source": []
  }
 ],
 "metadata": {
  "kernelspec": {
   "display_name": "Python 3",
   "language": "python",
   "name": "python3"
  },
  "language_info": {
   "codemirror_mode": {
    "name": "ipython",
    "version": 3
   },
   "file_extension": ".py",
   "mimetype": "text/x-python",
   "name": "python",
   "nbconvert_exporter": "python",
   "pygments_lexer": "ipython3",
   "version": "3.8.5"
  }
 },
 "nbformat": 4,
 "nbformat_minor": 4
}
