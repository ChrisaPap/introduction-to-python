{
 "cells": [
  {
   "cell_type": "markdown",
   "metadata": {},
   "source": [
    "# Final Project"
   ]
  },
  {
   "cell_type": "code",
   "execution_count": 51,
   "metadata": {},
   "outputs": [],
   "source": [
    "class Person():\n",
    "    \n",
    "    def __init__(self, fname, lname, age):\n",
    "        self.fname = fname\n",
    "        self.lname = lname\n",
    "        self.age = age\n",
    "        self.role = \" \"\n",
    "        self.language = []\n",
    "        \n",
    "    def addLanguage(self, newlanguage):\n",
    "        self.language.append(newlanguage)\n",
    "        \n",
    "    def print_languages(self):\n",
    "        print(self.fname + \" \"+ self.lname + \" speaks:\")\n",
    "        for i in self.language:\n",
    "              print(i)"
   ]
  },
  {
   "cell_type": "code",
   "execution_count": 55,
   "metadata": {},
   "outputs": [],
   "source": [
    "class Employee(Person):\n",
    "    def __init__(self, fname, lname, age):\n",
    "        super().__init__(fname, lname, age)\n",
    "        self.role = \"employee\"\n",
    "\n",
    "\n",
    "class Manager(Person):\n",
    "    def __init__(self, fname, lname, age):\n",
    "        super().__init__(fname, lname, age)\n",
    "        self.role = \"manager\"\n"
   ]
  },
  {
   "cell_type": "code",
   "execution_count": 56,
   "metadata": {},
   "outputs": [],
   "source": [
    "empl1 = Employee(\"Nick\", \"Jones\", \"38\")\n",
    "empl1.addLanguage(\"Spanish\")\n",
    "empl1.addLanguage(\"English\")\n",
    "# empl1.print_languages()"
   ]
  },
  {
   "cell_type": "code",
   "execution_count": 57,
   "metadata": {},
   "outputs": [],
   "source": [
    "man1 = Manager(\"George\", \"White\", \"47\")\n",
    "man1.addLanguage(\"English\")\n",
    "man1.addLanguage(\"German\")\n",
    "# man1.print_languages()"
   ]
  },
  {
   "cell_type": "code",
   "execution_count": 58,
   "metadata": {},
   "outputs": [],
   "source": [
    "empl2 = Employee(\"Mary\", \"Jane\", \"32\")\n",
    "empl2.addLanguage(\"French\")\n",
    "empl2.addLanguage(\"English\")"
   ]
  },
  {
   "cell_type": "code",
   "execution_count": 59,
   "metadata": {},
   "outputs": [],
   "source": [
    "empl3 = Employee(\"Peter\", \"Jonnys\", \"35\")\n",
    "empl3.addLanguage(\"Greek\")\n",
    "empl3.addLanguage(\"English\")"
   ]
  },
  {
   "cell_type": "code",
   "execution_count": 60,
   "metadata": {},
   "outputs": [],
   "source": [
    "employees = [empl1, empl2, empl3]"
   ]
  },
  {
   "cell_type": "code",
   "execution_count": 50,
   "metadata": {
    "scrolled": true
   },
   "outputs": [
    {
     "name": "stdout",
     "output_type": "stream",
     "text": [
      "Nick Jones speaks:\n",
      "Spanish\n",
      "English\n",
      "Mary Jane speaks:\n",
      "French\n",
      "English\n",
      "Peter Jonnys speaks:\n",
      "Greek\n",
      "English\n"
     ]
    }
   ],
   "source": [
    "for i in employees:\n",
    "    i.print_languages()"
   ]
  },
  {
   "cell_type": "code",
   "execution_count": null,
   "metadata": {},
   "outputs": [],
   "source": []
  }
 ],
 "metadata": {
  "kernelspec": {
   "display_name": "Python 3",
   "language": "python",
   "name": "python3"
  },
  "language_info": {
   "codemirror_mode": {
    "name": "ipython",
    "version": 3
   },
   "file_extension": ".py",
   "mimetype": "text/x-python",
   "name": "python",
   "nbconvert_exporter": "python",
   "pygments_lexer": "ipython3",
   "version": "3.8.5"
  }
 },
 "nbformat": 4,
 "nbformat_minor": 4
}
